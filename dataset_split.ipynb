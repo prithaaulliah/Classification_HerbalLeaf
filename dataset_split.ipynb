{
  "nbformat": 4,
  "nbformat_minor": 0,
  "metadata": {
    "colab": {
      "provenance": []
    },
    "kernelspec": {
      "name": "python3",
      "display_name": "Python 3"
    },
    "language_info": {
      "name": "python"
    }
  },
  "cells": [
    {
      "cell_type": "code",
      "execution_count": null,
      "metadata": {
        "colab": {
          "base_uri": "https://localhost:8080/"
        },
        "id": "z0LNFPrNs68J",
        "outputId": "0d627577-6426-432e-be9a-6c180d3081bc"
      },
      "outputs": [
        {
          "output_type": "stream",
          "name": "stdout",
          "text": [
            "Drive already mounted at /content/gdrive; to attempt to forcibly remount, call drive.mount(\"/content/gdrive\", force_remount=True).\n"
          ]
        }
      ],
      "source": [
        "from google.colab import drive\n",
        "drive.mount('/content/gdrive')"
      ]
    },
    {
      "cell_type": "code",
      "source": [
        "%cd /content/gdrive/MyDrive/Colab Notebooks/Daun Herbal"
      ],
      "metadata": {
        "colab": {
          "base_uri": "https://localhost:8080/"
        },
        "id": "ufhmmT_btqvC",
        "outputId": "5526f5ed-4ce2-4ace-bd2f-3184912b16a7"
      },
      "execution_count": null,
      "outputs": [
        {
          "output_type": "stream",
          "name": "stdout",
          "text": [
            "/content/gdrive/MyDrive/Colab Notebooks/Daun Herbal\n"
          ]
        }
      ]
    },
    {
      "cell_type": "code",
      "source": [
        "#!unzip \\s82j8dh4rr-1.zip"
      ],
      "metadata": {
        "id": "LHzxd8THtwM7"
      },
      "execution_count": null,
      "outputs": []
    },
    {
      "cell_type": "code",
      "source": [
        "import os\n",
        "import shutil\n",
        "!pip install split-folders\n",
        "%cd /content/gdrive/MyDrive/Colab Notebooks/Daun Herbal"
      ],
      "metadata": {
        "colab": {
          "base_uri": "https://localhost:8080/"
        },
        "id": "dmatGbkpuFej",
        "outputId": "d3b3ff48-e4e0-4bb7-88b1-c49fe7c71809"
      },
      "execution_count": null,
      "outputs": [
        {
          "output_type": "stream",
          "name": "stdout",
          "text": [
            "Looking in indexes: https://pypi.org/simple, https://us-python.pkg.dev/colab-wheels/public/simple/\n",
            "Requirement already satisfied: split-folders in /usr/local/lib/python3.7/dist-packages (0.5.1)\n",
            "/content/gdrive/MyDrive/Colab Notebooks/Daun Herbal\n"
          ]
        }
      ]
    },
    {
      "cell_type": "code",
      "source": [
        "!mkdir \"/content/gdrive/MyDrive/Colab Notebooks/Daun Herbal/dataset_split\""
      ],
      "metadata": {
        "id": "QBVO8XFuGtXo"
      },
      "execution_count": null,
      "outputs": []
    },
    {
      "cell_type": "code",
      "source": [
        "import splitfolders  # or import split_folders\n",
        "\n",
        "# Split with a ratio.\n",
        "# To only split into training and validation set, set a tuple to `ratio`, i.e, `(.7, .2, .1)`.\n",
        "splitfolders.ratio(\"/content/gdrive/MyDrive/Colab Notebooks/Daun Herbal/s82j8dh4rr-1\", output=\"/content/gdrive/MyDrive/Colab Notebooks/Daun Herbal/dataset_split\", seed=1337, ratio=(.7, .2, .1), group_prefix=None) # default values"
      ],
      "metadata": {
        "colab": {
          "base_uri": "https://localhost:8080/"
        },
        "id": "cw0ZlpiL9N_A",
        "outputId": "a19d6aa7-a9ff-43e8-8a7d-38bd8e9a50a9"
      },
      "execution_count": null,
      "outputs": [
        {
          "output_type": "stream",
          "name": "stderr",
          "text": [
            "Copying files: 3500 files [00:52, 66.95 files/s]\n"
          ]
        }
      ]
    },
    {
      "cell_type": "code",
      "source": [
        "base_dir = \"/content/gdrive/MyDrive/Colab Notebooks/Daun Herbal/dataset_split\"\n",
        "train_dir = os.path.join(base_dir, 'train')\n",
        "val_dir = os.path.join(base_dir, 'val')\n",
        "test_dir = os.path.join(base_dir, 'test')"
      ],
      "metadata": {
        "id": "aK6eWMJDCtLR"
      },
      "execution_count": null,
      "outputs": []
    }
  ]
}