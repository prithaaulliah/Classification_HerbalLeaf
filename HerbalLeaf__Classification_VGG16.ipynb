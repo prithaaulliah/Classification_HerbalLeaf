{
  "nbformat": 4,
  "nbformat_minor": 0,
  "metadata": {
    "colab": {
      "provenance": []
    },
    "kernelspec": {
      "name": "python3",
      "display_name": "Python 3"
    },
    "language_info": {
      "name": "python"
    },
    "accelerator": "GPU"
  },
  "cells": [
    {
      "cell_type": "markdown",
      "metadata": {
        "id": "view-in-github"
      },
      "source": [
        "<a href=\"https://colab.research.google.com/github/mdhenis402/Dataset-Daun-Belimbing-Wuluh-dan-Jambu-Biji_402_415/blob/main/Daun_VGG16.ipynb\" target=\"_parent\"><img src=\"https://colab.research.google.com/assets/colab-badge.svg\" alt=\"Open In Colab\"/></a>"
      ]
    },
    {
      "cell_type": "markdown",
      "source": [
        "Download Datasets"
      ],
      "metadata": {
        "id": "X0dvexFdnf9V"
      }
    },
    {
      "cell_type": "code",
      "source": [
        "# Ekstrak dataset\n",
        "\n",
        "import os\n",
        "import zipfile\n",
        "\n",
        "local_zip = '/tmp/Dataset.zip'\n",
        "zip_ref = zipfile.ZipFile(local_zip, 'r')\n",
        "zip_ref.extractall('/tmp')\n",
        "zip_ref.close()"
      ],
      "metadata": {
        "id": "Zd9V63kfnj-r"
      },
      "execution_count": null,
      "outputs": []
    },
    {
      "cell_type": "code",
      "source": [
        "base_dir = '/tmp/Dataset'\n",
        "\n",
        "train_dir = os.path.join(base_dir, 'Train')\n",
        "val_dir = os.path.join(base_dir, 'Validation')"
      ],
      "metadata": {
        "id": "mcamlaPynvJt"
      },
      "execution_count": null,
      "outputs": []
    },
    {
      "cell_type": "markdown",
      "source": [
        "Validasi Dataset"
      ],
      "metadata": {
        "id": "QkInoMxdn9aG"
      }
    },
    {
      "cell_type": "code",
      "source": [
        "belimbing_train_path = train_dir + '/Belimbing_Wuluh'\n",
        "jambu_train_path = train_dir + '/Jambu_Biji'\n",
        "belimbing_val_path = val_dir + '/Belimbing_Wuluh'\n",
        "jambu_val_path = val_dir + '/Jambu_Biji'\n",
        "\n",
        "belimbing_len_train = len(os.listdir(belimbing_train_path))\n",
        "jambu_len_train = len(os.listdir(jambu_train_path))\n",
        "belimbing_len_val = len(os.listdir(belimbing_val_path))\n",
        "jambu_len_val = len(os.listdir(jambu_val_path))\n",
        "\n",
        "print(\"jumlah dataset Training : \", belimbing_len_train + jambu_len_train)\n",
        "print(\"jumlah dataset validasi : \", belimbing_len_val + jambu_len_val)\n",
        "print(\"\\n\\n\")\n",
        "print(\"jumlah train kelas Belimbing : \", belimbing_len_train)\n",
        "print(\"jumlah train kelas Jambu : \", jambu_len_train)\n",
        "print(\"jumlah validasi kelas Belimbing : \", belimbing_len_val)\n",
        "print(\"jumlah validasi kelas Jambu : \", jambu_len_val)"
      ],
      "metadata": {
        "id": "oFjgF0IVoABW",
        "colab": {
          "base_uri": "https://localhost:8080/"
        },
        "outputId": "34d011ca-e500-4073-f1c7-f8eed3c8c318"
      },
      "execution_count": null,
      "outputs": [
        {
          "output_type": "stream",
          "name": "stdout",
          "text": [
            "jumlah dataset Training :  80\n",
            "jumlah dataset validasi :  20\n",
            "\n",
            "\n",
            "\n",
            "jumlah train kelas Belimbing :  40\n",
            "jumlah train kelas Jambu :  40\n",
            "jumlah validasi kelas Belimbing :  10\n",
            "jumlah validasi kelas Jambu :  10\n"
          ]
        }
      ]
    },
    {
      "cell_type": "code",
      "source": [
        "import tensorflow as tf\n",
        "from tensorflow.keras.optimizers import Adam\n",
        "from tensorflow.keras.preprocessing.image import ImageDataGenerator"
      ],
      "metadata": {
        "id": "tQHlaVzyoF9a"
      },
      "execution_count": null,
      "outputs": []
    },
    {
      "cell_type": "markdown",
      "source": [
        "Augmentasi"
      ],
      "metadata": {
        "id": "A_aws41loHH_"
      }
    },
    {
      "cell_type": "code",
      "source": [
        "train_datagen = ImageDataGenerator(\n",
        "      rescale=1./255,\n",
        "      rotation_range=40,\n",
        "      width_shift_range=0.2,\n",
        "      height_shift_range=0.2,\n",
        "      shear_range=0.2,\n",
        "      zoom_range=0.2,\n",
        "      horizontal_flip=True,\n",
        "      fill_mode='nearest')\n",
        "\n",
        "test_datagen = ImageDataGenerator(rescale=1./255)\n",
        "\n",
        "train_generator = train_datagen.flow_from_directory(\n",
        "        train_dir,\n",
        "        target_size=(224, 224),\n",
        "        batch_size=20,\n",
        "        class_mode='binary')\n",
        "\n",
        "validation_generator = test_datagen.flow_from_directory(\n",
        "        val_dir,\n",
        "        target_size=(224, 224),\n",
        "        batch_size=20,\n",
        "        class_mode='binary')"
      ],
      "metadata": {
        "id": "_CYyKNCjoJPa",
        "colab": {
          "base_uri": "https://localhost:8080/"
        },
        "outputId": "bd4423a8-86d2-43a4-bac2-5e7f20101b88"
      },
      "execution_count": null,
      "outputs": [
        {
          "output_type": "stream",
          "name": "stdout",
          "text": [
            "Found 80 images belonging to 2 classes.\n",
            "Found 20 images belonging to 2 classes.\n"
          ]
        }
      ]
    },
    {
      "cell_type": "markdown",
      "source": [
        "Arsitektur Model"
      ],
      "metadata": {
        "id": "HMShdzDnoqLW"
      }
    },
    {
      "cell_type": "code",
      "source": [
        "'''\n",
        "Import Library yang dibutuhkan\n",
        "'''\n",
        "\n",
        "from tensorflow.keras.models import Sequential\n",
        "from tensorflow.keras.layers import InputLayer, Dense, Flatten,Dropout, BatchNormalization\n",
        "import tensorflow as tf\n",
        "from tensorflow.keras.models import Model\n",
        "from tensorflow.keras.optimizers import Adam\n",
        "from tensorflow.keras.callbacks import EarlyStopping, ModelCheckpoint"
      ],
      "metadata": {
        "id": "2nIcTHw_ouCP"
      },
      "execution_count": null,
      "outputs": []
    },
    {
      "cell_type": "code",
      "source": [
        "'''\n",
        "definisikan dan setting callback untuk :\n",
        "1. memantau performa model\n",
        "2. melakukan save model terbaik menggunakan model checkpoint\n",
        "3. memberhentikan pelatihan ketika tidak memnuhi syarat dalam parameter earlystopping\n",
        "'''\n",
        "\n",
        "callbacks = EarlyStopping(monitor='val_loss', patience=15, verbose=1, mode='auto')        \n",
        "directory_to_save_best_model_file = '/content/drive/MyDrive/Colab Notebooks/Modul Kecerdasan Buatan Pak Galih /7. Transfer Learning /model_drop_batch_weight_from_callback_2.h5'\n",
        "best_model = ModelCheckpoint(directory_to_save_best_model_file, monitor='val_accuracy', verbose = 1, save_best_only = True)"
      ],
      "metadata": {
        "id": "4BsXL7H7owhW"
      },
      "execution_count": null,
      "outputs": []
    },
    {
      "cell_type": "code",
      "source": [
        "'''\n",
        "definisikan pretrained model yang ingin digunakan\n",
        "'''\n",
        "\n",
        "VGG16_base = tf.keras.applications.VGG16(include_top=False, weights='imagenet', #include_top = false , berarti fully connected layer akan dipidah dari arsitektur\n",
        "                                                 input_tensor=None, input_shape=(224, 224,3))"
      ],
      "metadata": {
        "id": "6TjACsRZo_Ej"
      },
      "execution_count": null,
      "outputs": []
    },
    {
      "cell_type": "code",
      "source": [
        "'''\n",
        "melakukan setting bahwa model pretrained tidak akan dilatih ulang\n",
        "'''\n",
        "\n",
        "VGG16_base.trainable = False"
      ],
      "metadata": {
        "id": "mkyz_nWVpBZq"
      },
      "execution_count": null,
      "outputs": []
    },
    {
      "cell_type": "code",
      "source": [
        "'''\n",
        "mendefinisikan layer pada bagian fully connected layer\n",
        "'''\n",
        "\n",
        "print('Adding new layers')\n",
        "output = VGG16_base.get_layer(index = -1).output  \n",
        "output = Flatten()(output)\n",
        "output = Dense(256,activation = \"relu\")(output)\n",
        "output = BatchNormalization()(output)\n",
        "output = Dropout(0.5)(output)\n",
        "output = Dense(256,activation = \"relu\")(output)\n",
        "output = BatchNormalization()(output)\n",
        "output = Dropout(0.5)(output)\n",
        "output = Dense(1, activation='sigmoid')(output) \n",
        "print('New layers Finishing Added!!!!')"
      ],
      "metadata": {
        "id": "pmhP7qX-pDpT",
        "colab": {
          "base_uri": "https://localhost:8080/"
        },
        "outputId": "04c26d69-26fd-4ea8-8c7a-c2c206d6c144"
      },
      "execution_count": null,
      "outputs": [
        {
          "output_type": "stream",
          "name": "stdout",
          "text": [
            "Adding new layers\n",
            "New layers Finishing Added!!!!\n"
          ]
        }
      ]
    },
    {
      "cell_type": "code",
      "source": [
        "VGG16_model = Model(VGG16_base.input, output)\n",
        "\n",
        "VGG16_model.summary()"
      ],
      "metadata": {
        "id": "54H2TI29pI9G",
        "colab": {
          "base_uri": "https://localhost:8080/"
        },
        "outputId": "6318fa32-8aa6-47be-800d-0739ecf02912"
      },
      "execution_count": null,
      "outputs": [
        {
          "output_type": "stream",
          "name": "stdout",
          "text": [
            "Model: \"model_1\"\n",
            "_________________________________________________________________\n",
            " Layer (type)                Output Shape              Param #   \n",
            "=================================================================\n",
            " input_2 (InputLayer)        [(None, 224, 224, 3)]     0         \n",
            "                                                                 \n",
            " block1_conv1 (Conv2D)       (None, 224, 224, 64)      1792      \n",
            "                                                                 \n",
            " block1_conv2 (Conv2D)       (None, 224, 224, 64)      36928     \n",
            "                                                                 \n",
            " block1_pool (MaxPooling2D)  (None, 112, 112, 64)      0         \n",
            "                                                                 \n",
            " block2_conv1 (Conv2D)       (None, 112, 112, 128)     73856     \n",
            "                                                                 \n",
            " block2_conv2 (Conv2D)       (None, 112, 112, 128)     147584    \n",
            "                                                                 \n",
            " block2_pool (MaxPooling2D)  (None, 56, 56, 128)       0         \n",
            "                                                                 \n",
            " block3_conv1 (Conv2D)       (None, 56, 56, 256)       295168    \n",
            "                                                                 \n",
            " block3_conv2 (Conv2D)       (None, 56, 56, 256)       590080    \n",
            "                                                                 \n",
            " block3_conv3 (Conv2D)       (None, 56, 56, 256)       590080    \n",
            "                                                                 \n",
            " block3_pool (MaxPooling2D)  (None, 28, 28, 256)       0         \n",
            "                                                                 \n",
            " block4_conv1 (Conv2D)       (None, 28, 28, 512)       1180160   \n",
            "                                                                 \n",
            " block4_conv2 (Conv2D)       (None, 28, 28, 512)       2359808   \n",
            "                                                                 \n",
            " block4_conv3 (Conv2D)       (None, 28, 28, 512)       2359808   \n",
            "                                                                 \n",
            " block4_pool (MaxPooling2D)  (None, 14, 14, 512)       0         \n",
            "                                                                 \n",
            " block5_conv1 (Conv2D)       (None, 14, 14, 512)       2359808   \n",
            "                                                                 \n",
            " block5_conv2 (Conv2D)       (None, 14, 14, 512)       2359808   \n",
            "                                                                 \n",
            " block5_conv3 (Conv2D)       (None, 14, 14, 512)       2359808   \n",
            "                                                                 \n",
            " block5_pool (MaxPooling2D)  (None, 7, 7, 512)         0         \n",
            "                                                                 \n",
            " flatten_1 (Flatten)         (None, 25088)             0         \n",
            "                                                                 \n",
            " dense_3 (Dense)             (None, 256)               6422784   \n",
            "                                                                 \n",
            " batch_normalization_2 (Batc  (None, 256)              1024      \n",
            " hNormalization)                                                 \n",
            "                                                                 \n",
            " dropout_2 (Dropout)         (None, 256)               0         \n",
            "                                                                 \n",
            " dense_4 (Dense)             (None, 256)               65792     \n",
            "                                                                 \n",
            " batch_normalization_3 (Batc  (None, 256)              1024      \n",
            " hNormalization)                                                 \n",
            "                                                                 \n",
            " dropout_3 (Dropout)         (None, 256)               0         \n",
            "                                                                 \n",
            " dense_5 (Dense)             (None, 1)                 257       \n",
            "                                                                 \n",
            "=================================================================\n",
            "Total params: 21,205,569\n",
            "Trainable params: 6,489,857\n",
            "Non-trainable params: 14,715,712\n",
            "_________________________________________________________________\n"
          ]
        }
      ]
    },
    {
      "cell_type": "code",
      "source": [
        "VGG16_model.compile(optimizer=tf.keras.optimizers.Adam(learning_rate=0.0001), loss='binary_crossentropy', \n",
        "                        metrics =['accuracy'])"
      ],
      "metadata": {
        "id": "qjg6eDa3pKgn"
      },
      "execution_count": null,
      "outputs": []
    },
    {
      "cell_type": "code",
      "source": [
        "history = VGG16_model.fit(\n",
        "      train_generator,\n",
        "      steps_per_epoch=4,  # images = batch_size * steps\n",
        "      epochs=80,\n",
        "      validation_data=validation_generator,\n",
        "      validation_steps=1,  #  images = batch_size * steps\n",
        "      callbacks = [callbacks, best_model])"
      ],
      "metadata": {
        "id": "RMv-D_D3pPzy",
        "colab": {
          "base_uri": "https://localhost:8080/"
        },
        "outputId": "db7fa22f-964f-453a-cf52-1ae97020e2b1"
      },
      "execution_count": null,
      "outputs": [
        {
          "output_type": "stream",
          "name": "stdout",
          "text": [
            "Epoch 1/80\n",
            "4/4 [==============================] - ETA: 0s - loss: 0.8861 - accuracy: 0.5250\n",
            "Epoch 00001: val_accuracy improved from -inf to 0.95000, saving model to /content/drive/MyDrive/Colab Notebooks/Modul Kecerdasan Buatan Pak Galih /7. Transfer Learning /model_drop_batch_weight_from_callback_2.h5\n",
            "4/4 [==============================] - 7s 2s/step - loss: 0.8861 - accuracy: 0.5250 - val_loss: 0.5095 - val_accuracy: 0.9500\n",
            "Epoch 2/80\n",
            "4/4 [==============================] - ETA: 0s - loss: 0.3785 - accuracy: 0.8625\n",
            "Epoch 00002: val_accuracy improved from 0.95000 to 1.00000, saving model to /content/drive/MyDrive/Colab Notebooks/Modul Kecerdasan Buatan Pak Galih /7. Transfer Learning /model_drop_batch_weight_from_callback_2.h5\n",
            "4/4 [==============================] - 5s 1s/step - loss: 0.3785 - accuracy: 0.8625 - val_loss: 0.3324 - val_accuracy: 1.0000\n",
            "Epoch 3/80\n",
            "4/4 [==============================] - ETA: 0s - loss: 0.3090 - accuracy: 0.8875\n",
            "Epoch 00003: val_accuracy did not improve from 1.00000\n",
            "4/4 [==============================] - 4s 1s/step - loss: 0.3090 - accuracy: 0.8875 - val_loss: 0.2257 - val_accuracy: 1.0000\n",
            "Epoch 4/80\n",
            "4/4 [==============================] - ETA: 0s - loss: 0.2721 - accuracy: 0.8875\n",
            "Epoch 00004: val_accuracy did not improve from 1.00000\n",
            "4/4 [==============================] - 4s 1s/step - loss: 0.2721 - accuracy: 0.8875 - val_loss: 0.1686 - val_accuracy: 1.0000\n",
            "Epoch 5/80\n",
            "4/4 [==============================] - ETA: 0s - loss: 0.3636 - accuracy: 0.8250\n",
            "Epoch 00005: val_accuracy did not improve from 1.00000\n",
            "4/4 [==============================] - 4s 1s/step - loss: 0.3636 - accuracy: 0.8250 - val_loss: 0.1409 - val_accuracy: 1.0000\n",
            "Epoch 6/80\n",
            "4/4 [==============================] - ETA: 0s - loss: 0.2215 - accuracy: 0.9000\n",
            "Epoch 00006: val_accuracy did not improve from 1.00000\n",
            "4/4 [==============================] - 4s 1s/step - loss: 0.2215 - accuracy: 0.9000 - val_loss: 0.1243 - val_accuracy: 1.0000\n",
            "Epoch 7/80\n",
            "4/4 [==============================] - ETA: 0s - loss: 0.1512 - accuracy: 0.9375\n",
            "Epoch 00007: val_accuracy did not improve from 1.00000\n",
            "4/4 [==============================] - 4s 1s/step - loss: 0.1512 - accuracy: 0.9375 - val_loss: 0.1132 - val_accuracy: 1.0000\n",
            "Epoch 8/80\n",
            "4/4 [==============================] - ETA: 0s - loss: 0.2560 - accuracy: 0.9250\n",
            "Epoch 00008: val_accuracy did not improve from 1.00000\n",
            "4/4 [==============================] - 4s 1s/step - loss: 0.2560 - accuracy: 0.9250 - val_loss: 0.1041 - val_accuracy: 1.0000\n",
            "Epoch 9/80\n",
            "4/4 [==============================] - ETA: 0s - loss: 0.1459 - accuracy: 0.9375\n",
            "Epoch 00009: val_accuracy did not improve from 1.00000\n",
            "4/4 [==============================] - 4s 1s/step - loss: 0.1459 - accuracy: 0.9375 - val_loss: 0.0946 - val_accuracy: 1.0000\n",
            "Epoch 10/80\n",
            "4/4 [==============================] - ETA: 0s - loss: 0.0913 - accuracy: 0.9750\n",
            "Epoch 00010: val_accuracy did not improve from 1.00000\n",
            "4/4 [==============================] - 4s 1s/step - loss: 0.0913 - accuracy: 0.9750 - val_loss: 0.0870 - val_accuracy: 1.0000\n",
            "Epoch 11/80\n",
            "4/4 [==============================] - ETA: 0s - loss: 0.2294 - accuracy: 0.8875\n",
            "Epoch 00011: val_accuracy did not improve from 1.00000\n",
            "4/4 [==============================] - 5s 1s/step - loss: 0.2294 - accuracy: 0.8875 - val_loss: 0.0793 - val_accuracy: 1.0000\n",
            "Epoch 12/80\n",
            "4/4 [==============================] - ETA: 0s - loss: 0.0903 - accuracy: 0.9625\n",
            "Epoch 00012: val_accuracy did not improve from 1.00000\n",
            "4/4 [==============================] - 4s 1s/step - loss: 0.0903 - accuracy: 0.9625 - val_loss: 0.0759 - val_accuracy: 1.0000\n",
            "Epoch 13/80\n",
            "4/4 [==============================] - ETA: 0s - loss: 0.0996 - accuracy: 0.9625\n",
            "Epoch 00013: val_accuracy did not improve from 1.00000\n",
            "4/4 [==============================] - 4s 1s/step - loss: 0.0996 - accuracy: 0.9625 - val_loss: 0.0760 - val_accuracy: 1.0000\n",
            "Epoch 14/80\n",
            "4/4 [==============================] - ETA: 0s - loss: 0.1051 - accuracy: 0.9250\n",
            "Epoch 00014: val_accuracy did not improve from 1.00000\n",
            "4/4 [==============================] - 4s 1s/step - loss: 0.1051 - accuracy: 0.9250 - val_loss: 0.0805 - val_accuracy: 1.0000\n",
            "Epoch 15/80\n",
            "4/4 [==============================] - ETA: 0s - loss: 0.1267 - accuracy: 0.9500\n",
            "Epoch 00015: val_accuracy did not improve from 1.00000\n",
            "4/4 [==============================] - 4s 1s/step - loss: 0.1267 - accuracy: 0.9500 - val_loss: 0.0872 - val_accuracy: 1.0000\n",
            "Epoch 16/80\n",
            "4/4 [==============================] - ETA: 0s - loss: 0.0774 - accuracy: 0.9750\n",
            "Epoch 00016: val_accuracy did not improve from 1.00000\n",
            "4/4 [==============================] - 4s 1s/step - loss: 0.0774 - accuracy: 0.9750 - val_loss: 0.0946 - val_accuracy: 1.0000\n",
            "Epoch 17/80\n",
            "4/4 [==============================] - ETA: 0s - loss: 0.1016 - accuracy: 0.9500\n",
            "Epoch 00017: val_accuracy did not improve from 1.00000\n",
            "4/4 [==============================] - 4s 1s/step - loss: 0.1016 - accuracy: 0.9500 - val_loss: 0.0971 - val_accuracy: 1.0000\n",
            "Epoch 18/80\n",
            "4/4 [==============================] - ETA: 0s - loss: 0.1373 - accuracy: 0.9500\n",
            "Epoch 00018: val_accuracy did not improve from 1.00000\n",
            "4/4 [==============================] - 4s 1s/step - loss: 0.1373 - accuracy: 0.9500 - val_loss: 0.0869 - val_accuracy: 1.0000\n",
            "Epoch 19/80\n",
            "4/4 [==============================] - ETA: 0s - loss: 0.1307 - accuracy: 0.9500\n",
            "Epoch 00019: val_accuracy did not improve from 1.00000\n",
            "4/4 [==============================] - 4s 1s/step - loss: 0.1307 - accuracy: 0.9500 - val_loss: 0.0719 - val_accuracy: 1.0000\n",
            "Epoch 20/80\n",
            "4/4 [==============================] - ETA: 0s - loss: 0.0777 - accuracy: 0.9750\n",
            "Epoch 00020: val_accuracy did not improve from 1.00000\n",
            "4/4 [==============================] - 4s 1s/step - loss: 0.0777 - accuracy: 0.9750 - val_loss: 0.0616 - val_accuracy: 1.0000\n",
            "Epoch 21/80\n",
            "4/4 [==============================] - ETA: 0s - loss: 0.1488 - accuracy: 0.9625\n",
            "Epoch 00021: val_accuracy did not improve from 1.00000\n",
            "4/4 [==============================] - 4s 1s/step - loss: 0.1488 - accuracy: 0.9625 - val_loss: 0.0549 - val_accuracy: 1.0000\n",
            "Epoch 22/80\n",
            "4/4 [==============================] - ETA: 0s - loss: 0.0352 - accuracy: 1.0000\n",
            "Epoch 00022: val_accuracy did not improve from 1.00000\n",
            "4/4 [==============================] - 4s 1s/step - loss: 0.0352 - accuracy: 1.0000 - val_loss: 0.0504 - val_accuracy: 1.0000\n",
            "Epoch 23/80\n",
            "4/4 [==============================] - ETA: 0s - loss: 0.0563 - accuracy: 0.9625\n",
            "Epoch 00023: val_accuracy did not improve from 1.00000\n",
            "4/4 [==============================] - 5s 1s/step - loss: 0.0563 - accuracy: 0.9625 - val_loss: 0.0501 - val_accuracy: 1.0000\n",
            "Epoch 24/80\n",
            "4/4 [==============================] - ETA: 0s - loss: 0.0375 - accuracy: 0.9875\n",
            "Epoch 00024: val_accuracy did not improve from 1.00000\n",
            "4/4 [==============================] - 9s 2s/step - loss: 0.0375 - accuracy: 0.9875 - val_loss: 0.0517 - val_accuracy: 1.0000\n",
            "Epoch 25/80\n",
            "4/4 [==============================] - ETA: 0s - loss: 0.0313 - accuracy: 0.9875\n",
            "Epoch 00025: val_accuracy did not improve from 1.00000\n",
            "4/4 [==============================] - 7s 2s/step - loss: 0.0313 - accuracy: 0.9875 - val_loss: 0.0497 - val_accuracy: 1.0000\n",
            "Epoch 26/80\n",
            "4/4 [==============================] - ETA: 0s - loss: 0.0851 - accuracy: 0.9625\n",
            "Epoch 00026: val_accuracy did not improve from 1.00000\n",
            "4/4 [==============================] - 4s 1s/step - loss: 0.0851 - accuracy: 0.9625 - val_loss: 0.0438 - val_accuracy: 1.0000\n",
            "Epoch 27/80\n",
            "4/4 [==============================] - ETA: 0s - loss: 0.0395 - accuracy: 0.9875\n",
            "Epoch 00027: val_accuracy did not improve from 1.00000\n",
            "4/4 [==============================] - 4s 1s/step - loss: 0.0395 - accuracy: 0.9875 - val_loss: 0.0355 - val_accuracy: 1.0000\n",
            "Epoch 28/80\n",
            "4/4 [==============================] - ETA: 0s - loss: 0.0872 - accuracy: 0.9750\n",
            "Epoch 00028: val_accuracy did not improve from 1.00000\n",
            "4/4 [==============================] - 4s 1s/step - loss: 0.0872 - accuracy: 0.9750 - val_loss: 0.0270 - val_accuracy: 1.0000\n",
            "Epoch 29/80\n",
            "4/4 [==============================] - ETA: 0s - loss: 0.0588 - accuracy: 0.9750\n",
            "Epoch 00029: val_accuracy did not improve from 1.00000\n",
            "4/4 [==============================] - 4s 1s/step - loss: 0.0588 - accuracy: 0.9750 - val_loss: 0.0232 - val_accuracy: 1.0000\n",
            "Epoch 30/80\n",
            "4/4 [==============================] - ETA: 0s - loss: 0.0413 - accuracy: 0.9875\n",
            "Epoch 00030: val_accuracy did not improve from 1.00000\n",
            "4/4 [==============================] - 4s 1s/step - loss: 0.0413 - accuracy: 0.9875 - val_loss: 0.0208 - val_accuracy: 1.0000\n",
            "Epoch 31/80\n",
            "4/4 [==============================] - ETA: 0s - loss: 0.1123 - accuracy: 0.9375\n",
            "Epoch 00031: val_accuracy did not improve from 1.00000\n",
            "4/4 [==============================] - 4s 1s/step - loss: 0.1123 - accuracy: 0.9375 - val_loss: 0.0196 - val_accuracy: 1.0000\n",
            "Epoch 32/80\n",
            "4/4 [==============================] - ETA: 0s - loss: 0.0242 - accuracy: 1.0000\n",
            "Epoch 00032: val_accuracy did not improve from 1.00000\n",
            "4/4 [==============================] - 4s 1s/step - loss: 0.0242 - accuracy: 1.0000 - val_loss: 0.0199 - val_accuracy: 1.0000\n",
            "Epoch 33/80\n",
            "4/4 [==============================] - ETA: 0s - loss: 0.1146 - accuracy: 0.9500\n",
            "Epoch 00033: val_accuracy did not improve from 1.00000\n",
            "4/4 [==============================] - 4s 1s/step - loss: 0.1146 - accuracy: 0.9500 - val_loss: 0.0182 - val_accuracy: 1.0000\n",
            "Epoch 34/80\n",
            "4/4 [==============================] - ETA: 0s - loss: 0.0328 - accuracy: 0.9875\n",
            "Epoch 00034: val_accuracy did not improve from 1.00000\n",
            "4/4 [==============================] - 4s 1s/step - loss: 0.0328 - accuracy: 0.9875 - val_loss: 0.0170 - val_accuracy: 1.0000\n",
            "Epoch 35/80\n",
            "4/4 [==============================] - ETA: 0s - loss: 0.0647 - accuracy: 0.9750\n",
            "Epoch 00035: val_accuracy did not improve from 1.00000\n",
            "4/4 [==============================] - 4s 1s/step - loss: 0.0647 - accuracy: 0.9750 - val_loss: 0.0171 - val_accuracy: 1.0000\n",
            "Epoch 36/80\n",
            "4/4 [==============================] - ETA: 0s - loss: 0.0274 - accuracy: 1.0000\n",
            "Epoch 00036: val_accuracy did not improve from 1.00000\n",
            "4/4 [==============================] - 4s 1s/step - loss: 0.0274 - accuracy: 1.0000 - val_loss: 0.0152 - val_accuracy: 1.0000\n",
            "Epoch 37/80\n",
            "4/4 [==============================] - ETA: 0s - loss: 0.0832 - accuracy: 0.9375\n",
            "Epoch 00037: val_accuracy did not improve from 1.00000\n",
            "4/4 [==============================] - 4s 1s/step - loss: 0.0832 - accuracy: 0.9375 - val_loss: 0.0132 - val_accuracy: 1.0000\n",
            "Epoch 38/80\n",
            "4/4 [==============================] - ETA: 0s - loss: 0.0263 - accuracy: 0.9875\n",
            "Epoch 00038: val_accuracy did not improve from 1.00000\n",
            "4/4 [==============================] - 4s 1s/step - loss: 0.0263 - accuracy: 0.9875 - val_loss: 0.0121 - val_accuracy: 1.0000\n",
            "Epoch 39/80\n",
            "4/4 [==============================] - ETA: 0s - loss: 0.0235 - accuracy: 1.0000\n",
            "Epoch 00039: val_accuracy did not improve from 1.00000\n",
            "4/4 [==============================] - 4s 1s/step - loss: 0.0235 - accuracy: 1.0000 - val_loss: 0.0115 - val_accuracy: 1.0000\n",
            "Epoch 40/80\n",
            "4/4 [==============================] - ETA: 0s - loss: 0.0289 - accuracy: 0.9875\n",
            "Epoch 00040: val_accuracy did not improve from 1.00000\n",
            "4/4 [==============================] - 4s 1s/step - loss: 0.0289 - accuracy: 0.9875 - val_loss: 0.0103 - val_accuracy: 1.0000\n",
            "Epoch 41/80\n",
            "4/4 [==============================] - ETA: 0s - loss: 0.0527 - accuracy: 0.9875\n",
            "Epoch 00041: val_accuracy did not improve from 1.00000\n",
            "4/4 [==============================] - 4s 1s/step - loss: 0.0527 - accuracy: 0.9875 - val_loss: 0.0081 - val_accuracy: 1.0000\n",
            "Epoch 42/80\n",
            "4/4 [==============================] - ETA: 0s - loss: 0.0635 - accuracy: 0.9750\n",
            "Epoch 00042: val_accuracy did not improve from 1.00000\n",
            "4/4 [==============================] - 4s 1s/step - loss: 0.0635 - accuracy: 0.9750 - val_loss: 0.0061 - val_accuracy: 1.0000\n",
            "Epoch 43/80\n",
            "4/4 [==============================] - ETA: 0s - loss: 0.0270 - accuracy: 1.0000\n",
            "Epoch 00043: val_accuracy did not improve from 1.00000\n",
            "4/4 [==============================] - 4s 1s/step - loss: 0.0270 - accuracy: 1.0000 - val_loss: 0.0052 - val_accuracy: 1.0000\n",
            "Epoch 44/80\n",
            "4/4 [==============================] - ETA: 0s - loss: 0.0295 - accuracy: 0.9875\n",
            "Epoch 00044: val_accuracy did not improve from 1.00000\n",
            "4/4 [==============================] - 4s 1s/step - loss: 0.0295 - accuracy: 0.9875 - val_loss: 0.0057 - val_accuracy: 1.0000\n",
            "Epoch 45/80\n",
            "4/4 [==============================] - ETA: 0s - loss: 0.0167 - accuracy: 1.0000\n",
            "Epoch 00045: val_accuracy did not improve from 1.00000\n",
            "4/4 [==============================] - 4s 1s/step - loss: 0.0167 - accuracy: 1.0000 - val_loss: 0.0063 - val_accuracy: 1.0000\n",
            "Epoch 46/80\n",
            "4/4 [==============================] - ETA: 0s - loss: 0.0116 - accuracy: 1.0000\n",
            "Epoch 00046: val_accuracy did not improve from 1.00000\n",
            "4/4 [==============================] - 6s 2s/step - loss: 0.0116 - accuracy: 1.0000 - val_loss: 0.0064 - val_accuracy: 1.0000\n",
            "Epoch 47/80\n",
            "4/4 [==============================] - ETA: 0s - loss: 0.0342 - accuracy: 0.9875\n",
            "Epoch 00047: val_accuracy did not improve from 1.00000\n",
            "4/4 [==============================] - 5s 1s/step - loss: 0.0342 - accuracy: 0.9875 - val_loss: 0.0076 - val_accuracy: 1.0000\n",
            "Epoch 48/80\n",
            "4/4 [==============================] - ETA: 0s - loss: 0.0158 - accuracy: 1.0000\n",
            "Epoch 00048: val_accuracy did not improve from 1.00000\n",
            "4/4 [==============================] - 4s 1s/step - loss: 0.0158 - accuracy: 1.0000 - val_loss: 0.0084 - val_accuracy: 1.0000\n",
            "Epoch 49/80\n",
            "4/4 [==============================] - ETA: 0s - loss: 0.0724 - accuracy: 0.9750\n",
            "Epoch 00049: val_accuracy did not improve from 1.00000\n",
            "4/4 [==============================] - 4s 1s/step - loss: 0.0724 - accuracy: 0.9750 - val_loss: 0.0097 - val_accuracy: 1.0000\n",
            "Epoch 50/80\n",
            "4/4 [==============================] - ETA: 0s - loss: 0.0165 - accuracy: 1.0000\n",
            "Epoch 00050: val_accuracy did not improve from 1.00000\n",
            "4/4 [==============================] - 4s 1s/step - loss: 0.0165 - accuracy: 1.0000 - val_loss: 0.0114 - val_accuracy: 1.0000\n",
            "Epoch 51/80\n",
            "4/4 [==============================] - ETA: 0s - loss: 0.0334 - accuracy: 0.9875\n",
            "Epoch 00051: val_accuracy did not improve from 1.00000\n",
            "4/4 [==============================] - 4s 1s/step - loss: 0.0334 - accuracy: 0.9875 - val_loss: 0.0114 - val_accuracy: 1.0000\n",
            "Epoch 52/80\n",
            "4/4 [==============================] - ETA: 0s - loss: 0.0239 - accuracy: 1.0000\n",
            "Epoch 00052: val_accuracy did not improve from 1.00000\n",
            "4/4 [==============================] - 4s 1s/step - loss: 0.0239 - accuracy: 1.0000 - val_loss: 0.0105 - val_accuracy: 1.0000\n",
            "Epoch 53/80\n",
            "4/4 [==============================] - ETA: 0s - loss: 0.0298 - accuracy: 0.9875\n",
            "Epoch 00053: val_accuracy did not improve from 1.00000\n",
            "4/4 [==============================] - 4s 1s/step - loss: 0.0298 - accuracy: 0.9875 - val_loss: 0.0104 - val_accuracy: 1.0000\n",
            "Epoch 54/80\n",
            "4/4 [==============================] - ETA: 0s - loss: 0.0227 - accuracy: 1.0000\n",
            "Epoch 00054: val_accuracy did not improve from 1.00000\n",
            "4/4 [==============================] - 4s 1s/step - loss: 0.0227 - accuracy: 1.0000 - val_loss: 0.0097 - val_accuracy: 1.0000\n",
            "Epoch 55/80\n",
            "4/4 [==============================] - ETA: 0s - loss: 0.0140 - accuracy: 1.0000\n",
            "Epoch 00055: val_accuracy did not improve from 1.00000\n",
            "4/4 [==============================] - 4s 1s/step - loss: 0.0140 - accuracy: 1.0000 - val_loss: 0.0084 - val_accuracy: 1.0000\n",
            "Epoch 56/80\n",
            "4/4 [==============================] - ETA: 0s - loss: 0.1423 - accuracy: 0.9625\n",
            "Epoch 00056: val_accuracy did not improve from 1.00000\n",
            "4/4 [==============================] - 4s 1s/step - loss: 0.1423 - accuracy: 0.9625 - val_loss: 0.0061 - val_accuracy: 1.0000\n",
            "Epoch 57/80\n",
            "4/4 [==============================] - ETA: 0s - loss: 0.0406 - accuracy: 0.9875\n",
            "Epoch 00057: val_accuracy did not improve from 1.00000\n",
            "4/4 [==============================] - 4s 1s/step - loss: 0.0406 - accuracy: 0.9875 - val_loss: 0.0045 - val_accuracy: 1.0000\n",
            "Epoch 58/80\n",
            "4/4 [==============================] - ETA: 0s - loss: 0.0427 - accuracy: 0.9875\n",
            "Epoch 00058: val_accuracy did not improve from 1.00000\n",
            "4/4 [==============================] - 4s 1s/step - loss: 0.0427 - accuracy: 0.9875 - val_loss: 0.0034 - val_accuracy: 1.0000\n",
            "Epoch 59/80\n",
            "4/4 [==============================] - ETA: 0s - loss: 0.0280 - accuracy: 0.9875\n",
            "Epoch 00059: val_accuracy did not improve from 1.00000\n",
            "4/4 [==============================] - 4s 1s/step - loss: 0.0280 - accuracy: 0.9875 - val_loss: 0.0029 - val_accuracy: 1.0000\n",
            "Epoch 60/80\n",
            "4/4 [==============================] - ETA: 0s - loss: 0.0152 - accuracy: 1.0000\n",
            "Epoch 00060: val_accuracy did not improve from 1.00000\n",
            "4/4 [==============================] - 4s 1s/step - loss: 0.0152 - accuracy: 1.0000 - val_loss: 0.0026 - val_accuracy: 1.0000\n",
            "Epoch 61/80\n",
            "4/4 [==============================] - ETA: 0s - loss: 0.0335 - accuracy: 0.9875\n",
            "Epoch 00061: val_accuracy did not improve from 1.00000\n",
            "4/4 [==============================] - 4s 1s/step - loss: 0.0335 - accuracy: 0.9875 - val_loss: 0.0026 - val_accuracy: 1.0000\n",
            "Epoch 62/80\n",
            "4/4 [==============================] - ETA: 0s - loss: 0.0155 - accuracy: 1.0000\n",
            "Epoch 00062: val_accuracy did not improve from 1.00000\n",
            "4/4 [==============================] - 4s 1s/step - loss: 0.0155 - accuracy: 1.0000 - val_loss: 0.0028 - val_accuracy: 1.0000\n",
            "Epoch 63/80\n",
            "4/4 [==============================] - ETA: 0s - loss: 0.0445 - accuracy: 0.9750\n",
            "Epoch 00063: val_accuracy did not improve from 1.00000\n",
            "4/4 [==============================] - 4s 1s/step - loss: 0.0445 - accuracy: 0.9750 - val_loss: 0.0033 - val_accuracy: 1.0000\n",
            "Epoch 64/80\n",
            "4/4 [==============================] - ETA: 0s - loss: 0.0751 - accuracy: 0.9625\n",
            "Epoch 00064: val_accuracy did not improve from 1.00000\n",
            "4/4 [==============================] - 4s 1s/step - loss: 0.0751 - accuracy: 0.9625 - val_loss: 0.0033 - val_accuracy: 1.0000\n",
            "Epoch 65/80\n",
            "4/4 [==============================] - ETA: 0s - loss: 0.0279 - accuracy: 0.9875\n",
            "Epoch 00065: val_accuracy did not improve from 1.00000\n",
            "4/4 [==============================] - 4s 1s/step - loss: 0.0279 - accuracy: 0.9875 - val_loss: 0.0039 - val_accuracy: 1.0000\n",
            "Epoch 66/80\n",
            "4/4 [==============================] - ETA: 0s - loss: 0.0274 - accuracy: 0.9875\n",
            "Epoch 00066: val_accuracy did not improve from 1.00000\n",
            "4/4 [==============================] - 4s 1s/step - loss: 0.0274 - accuracy: 0.9875 - val_loss: 0.0042 - val_accuracy: 1.0000\n",
            "Epoch 67/80\n",
            "4/4 [==============================] - ETA: 0s - loss: 0.0152 - accuracy: 1.0000\n",
            "Epoch 00067: val_accuracy did not improve from 1.00000\n",
            "4/4 [==============================] - 4s 1s/step - loss: 0.0152 - accuracy: 1.0000 - val_loss: 0.0044 - val_accuracy: 1.0000\n",
            "Epoch 68/80\n",
            "4/4 [==============================] - ETA: 0s - loss: 0.0261 - accuracy: 0.9875\n",
            "Epoch 00068: val_accuracy did not improve from 1.00000\n",
            "4/4 [==============================] - 4s 1s/step - loss: 0.0261 - accuracy: 0.9875 - val_loss: 0.0045 - val_accuracy: 1.0000\n",
            "Epoch 69/80\n",
            "4/4 [==============================] - ETA: 0s - loss: 0.0153 - accuracy: 1.0000\n",
            "Epoch 00069: val_accuracy did not improve from 1.00000\n",
            "4/4 [==============================] - 4s 1s/step - loss: 0.0153 - accuracy: 1.0000 - val_loss: 0.0047 - val_accuracy: 1.0000\n",
            "Epoch 70/80\n",
            "4/4 [==============================] - ETA: 0s - loss: 0.0335 - accuracy: 1.0000\n",
            "Epoch 00070: val_accuracy did not improve from 1.00000\n",
            "4/4 [==============================] - 4s 1s/step - loss: 0.0335 - accuracy: 1.0000 - val_loss: 0.0051 - val_accuracy: 1.0000\n",
            "Epoch 71/80\n",
            "4/4 [==============================] - ETA: 0s - loss: 0.0260 - accuracy: 1.0000\n",
            "Epoch 00071: val_accuracy did not improve from 1.00000\n",
            "4/4 [==============================] - 4s 1s/step - loss: 0.0260 - accuracy: 1.0000 - val_loss: 0.0053 - val_accuracy: 1.0000\n",
            "Epoch 72/80\n",
            "4/4 [==============================] - ETA: 0s - loss: 0.0248 - accuracy: 1.0000\n",
            "Epoch 00072: val_accuracy did not improve from 1.00000\n",
            "4/4 [==============================] - 4s 1s/step - loss: 0.0248 - accuracy: 1.0000 - val_loss: 0.0051 - val_accuracy: 1.0000\n",
            "Epoch 73/80\n",
            "4/4 [==============================] - ETA: 0s - loss: 0.0321 - accuracy: 1.0000\n",
            "Epoch 00073: val_accuracy did not improve from 1.00000\n",
            "4/4 [==============================] - 4s 1s/step - loss: 0.0321 - accuracy: 1.0000 - val_loss: 0.0047 - val_accuracy: 1.0000\n",
            "Epoch 74/80\n",
            "4/4 [==============================] - ETA: 0s - loss: 0.0748 - accuracy: 0.9625\n",
            "Epoch 00074: val_accuracy did not improve from 1.00000\n",
            "4/4 [==============================] - 4s 1s/step - loss: 0.0748 - accuracy: 0.9625 - val_loss: 0.0048 - val_accuracy: 1.0000\n",
            "Epoch 75/80\n",
            "4/4 [==============================] - ETA: 0s - loss: 0.0133 - accuracy: 1.0000\n",
            "Epoch 00075: val_accuracy did not improve from 1.00000\n",
            "4/4 [==============================] - 4s 1s/step - loss: 0.0133 - accuracy: 1.0000 - val_loss: 0.0048 - val_accuracy: 1.0000\n",
            "Epoch 76/80\n",
            "4/4 [==============================] - ETA: 0s - loss: 0.0173 - accuracy: 0.9875\n",
            "Epoch 00076: val_accuracy did not improve from 1.00000\n",
            "4/4 [==============================] - 4s 1s/step - loss: 0.0173 - accuracy: 0.9875 - val_loss: 0.0047 - val_accuracy: 1.0000\n",
            "Epoch 00076: early stopping\n"
          ]
        }
      ]
    },
    {
      "cell_type": "markdown",
      "source": [
        "Model Evaluation"
      ],
      "metadata": {
        "id": "cIhecREwpa3t"
      }
    },
    {
      "cell_type": "code",
      "source": [
        "import matplotlib.pyplot as plt\n",
        "acc = history.history['accuracy']\n",
        "val_acc = history.history['val_accuracy']\n",
        "loss = history.history['loss']\n",
        "val_loss = history.history['val_loss']\n",
        "\n",
        "epochs = range(len(acc))\n",
        "\n",
        "plt.plot(epochs, acc, 'bo', label='Training accuracy')\n",
        "plt.plot(epochs, val_acc, 'b', label='Validation accuracy')\n",
        "plt.title('Training and validation accuracy')\n",
        "\n",
        "plt.figure()\n",
        "\n",
        "plt.plot(epochs, loss, 'bo', label='Training Loss')\n",
        "plt.plot(epochs, val_loss, 'b', label='Validation Loss')\n",
        "plt.title('Training and validation loss')\n",
        "plt.legend()\n",
        "\n",
        "plt.show()"
      ],
      "metadata": {
        "id": "-2B8tCRppXt2",
        "colab": {
          "base_uri": "https://localhost:8080/",
          "height": 551
        },
        "outputId": "44310ff3-7ab7-4908-b4a7-091cb0206def"
      },
      "execution_count": null,
      "outputs": [
        {
          "output_type": "display_data",
          "data": {
            "image/png": "[encoded data removed]",
            "text/plain": [
              "<Figure size 432x288 with 1 Axes>"
            ]
          },
          "metadata": {}
        },
        {
          "output_type": "display_data",
          "data": {
            "image/png": "[encoded data removed]",
            "text/plain": [
              "<Figure size 432x288 with 1 Axes>"
            ]
          },
          "metadata": {}
        }
      ]
    },
    {
      "cell_type": "code",
      "source": [
        "# import some of library that we need to look the confusion matrix, recall, f1_score, and accuracy score to look how much your model is well\n",
        "import numpy as np \n",
        "from keras.preprocessing.image import ImageDataGenerator\n",
        "import matplotlib.pyplot as plt\n",
        "from sklearn.metrics import f1_score, recall_score, accuracy_score\n",
        "from sklearn.metrics import precision_score, confusion_matrix, classification_report\n",
        "from sklearn import metrics\n",
        "\n",
        "import seaborn as sns\n",
        "sns.set(style='whitegrid')"
      ],
      "metadata": {
        "id": "X5uCatTrpeBj"
      },
      "execution_count": null,
      "outputs": []
    },
    {
      "cell_type": "code",
      "source": [
        "# loading model to evaluate more depth\n",
        "from keras.models import load_model\n",
        "model_path = '/content/drive/MyDrive/Colab Notebooks/Modul Kecerdasan Buatan Pak Galih /7. Transfer Learning /model_drop_batch_weight_from_callback_2.h5'\n",
        "model = load_model(model_path)"
      ],
      "metadata": {
        "id": "jdre7VdppnC6"
      },
      "execution_count": null,
      "outputs": []
    },
    {
      "cell_type": "code",
      "source": [
        "def my_metrics(y_true, y_pred):\n",
        "    accuracy=accuracy_score(y_true, y_pred)\n",
        "    precision=precision_score(y_true, y_pred,average='weighted')\n",
        "    f1Score=f1_score(y_true, y_pred, average='weighted') \n",
        "    print(\"Accuracy  : {}\".format(accuracy))\n",
        "    print(\"Precision : {}\".format(precision))\n",
        "    print(\"f1Score : {}\".format(f1Score))\n",
        "    cm=confusion_matrix(y_true, y_pred)\n",
        "    print(cm)\n",
        "    return accuracy, precision, f1Score\n",
        "\n",
        "height=224; width=224\n",
        "batch_size=20\n",
        "\n",
        "test_datagen = ImageDataGenerator(rescale=1./255)\n",
        "\n",
        "TESTING_DIR = '/tmp/Dataset/Validation'\n",
        "\n",
        "test_generator = test_datagen.flow_from_directory(TESTING_DIR,\n",
        "                                                  batch_size=batch_size,                                                             \n",
        "                                                  target_size=(height, width),\n",
        "                                                  class_mode= None,\n",
        "                                                  shuffle=False\n",
        "                                                  )\n",
        "\n",
        "predictions = model.predict_generator(generator=test_generator)\n",
        "yPredictions = predictions > 0.5\n",
        "true_classes = test_generator.classes\n",
        "class_names = test_generator.class_indices\n",
        "Cmatrix_test = confusion_matrix(true_classes, yPredictions)\n",
        "\n",
        "testAcc,testPrec, testFScore = my_metrics(true_classes, yPredictions)\n",
        "\n",
        "plt.figure(figsize=(20,20))\n",
        "ax= plt.subplot()\n",
        "data = np.asarray(Cmatrix_test).reshape(2,2)\n",
        "sns.heatmap(data,annot=True, fmt='',ax=ax, cmap=plt.cm.Reds)\n",
        "ax.set_xlabel('Predicted labels')\n",
        "ax.set_ylabel('True labels') \n",
        "ax.set_title('Confusion Matrix')\n",
        "ax.xaxis.set_ticklabels(class_names)   \n",
        "ax.yaxis.set_ticklabels(class_names)\n",
        "plt.title('Confusion Matrix Test',fontsize=14)\n",
        "plt.show()\n"
      ],
      "metadata": {
        "id": "asQ5rNVIpqPa",
        "colab": {
          "base_uri": "https://localhost:8080/",
          "height": 1000
        },
        "outputId": "49e6ac54-cc36-4a0d-d007-a8a356dbde95"
      },
      "execution_count": null,
      "outputs": [
        {
          "output_type": "stream",
          "name": "stdout",
          "text": [
            "Found 20 images belonging to 2 classes.\n"
          ]
        },
        {
          "output_type": "stream",
          "name": "stderr",
          "text": [
            "/usr/local/lib/python3.7/dist-packages/ipykernel_launcher.py:26: UserWarning: `Model.predict_generator` is deprecated and will be removed in a future version. Please use `Model.predict`, which supports generators.\n"
          ]
        },
        {
          "output_type": "stream",
          "name": "stdout",
          "text": [
            "Accuracy  : 1.0\n",
            "Precision : 1.0\n",
            "f1Score : 1.0\n",
            "[[10  0]\n",
            " [ 0 10]]\n"
          ]
        },
        {
          "output_type": "display_data",
          "data": {
            "image/png": "[encoded data removed]",
            "text/plain": [
              "<Figure size 1440x1440 with 2 Axes>"
            ]
          },
          "metadata": {}
        }
      ]
    },
    {
      "cell_type": "code",
      "source": [
        "from sklearn.metrics import classification_report\n",
        "print(classification_report(true_classes, yPredictions, target_names=class_names))"
      ],
      "metadata": {
        "id": "Fo0mbZPMpsDH",
        "colab": {
          "base_uri": "https://localhost:8080/"
        },
        "outputId": "f4d42d04-8fdc-4c35-d7e5-52f0288f6bc2"
      },
      "execution_count": null,
      "outputs": [
        {
          "output_type": "stream",
          "name": "stdout",
          "text": [
            "                 precision    recall  f1-score   support\n",
            "\n",
            "Belimbing_Wuluh       1.00      1.00      1.00        10\n",
            "     Jambu_Biji       1.00      1.00      1.00        10\n",
            "\n",
            "       accuracy                           1.00        20\n",
            "      macro avg       1.00      1.00      1.00        20\n",
            "   weighted avg       1.00      1.00      1.00        20\n",
            "\n"
          ]
        }
      ]
    }
  ]
}